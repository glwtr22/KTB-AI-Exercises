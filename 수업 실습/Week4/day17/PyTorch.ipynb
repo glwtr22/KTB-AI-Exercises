{
 "cells": [
  {
   "cell_type": "code",
   "id": "initial_id",
   "metadata": {
    "collapsed": true,
    "ExecuteTime": {
     "end_time": "2024-07-24T14:05:20.436166Z",
     "start_time": "2024-07-24T14:05:20.424367Z"
    }
   },
   "source": "import torch",
   "outputs": [],
   "execution_count": 52
  },
  {
   "metadata": {
    "ExecuteTime": {
     "end_time": "2024-07-24T14:05:20.509115Z",
     "start_time": "2024-07-24T14:05:20.495208Z"
    }
   },
   "cell_type": "code",
   "source": [
    "# 1D Tensor\n",
    "x = torch.tensor([1, 2, 3])\n",
    "# 모든 값이 0인 2x3 텐서\n",
    "y = torch.ones(2, 3)\n",
    "z = torch.zeros(4, 5)\n",
    "\n",
    "print(\"X: \", x)\n",
    "print(\"Y: \", y)\n",
    "print(\"Z: \", z)"
   ],
   "id": "c87a0af74d2c111c",
   "outputs": [
    {
     "name": "stdout",
     "output_type": "stream",
     "text": [
      "X:  tensor([1, 2, 3])\n",
      "Y:  tensor([[1., 1., 1.],\n",
      "        [1., 1., 1.]])\n",
      "Z:  tensor([[0., 0., 0., 0., 0.],\n",
      "        [0., 0., 0., 0., 0.],\n",
      "        [0., 0., 0., 0., 0.],\n",
      "        [0., 0., 0., 0., 0.]])\n"
     ]
    }
   ],
   "execution_count": 53
  },
  {
   "metadata": {
    "ExecuteTime": {
     "end_time": "2024-07-24T14:05:20.671835Z",
     "start_time": "2024-07-24T14:05:20.655578Z"
    }
   },
   "cell_type": "code",
   "source": [
    "# 텐서의 속성\n",
    "\n",
    "# 텐서의 형태와 크기\n",
    "print(x.shape)\n",
    "print(y.size())\n",
    "print(z.dtype)\n",
    "'''\n",
    "shape과 size는 PyTorch에서 텐서의 크기를 나타내는 두 가지 속성이다\n",
    "두 속성 모두 텐서의 차원을 튜플 형태로 반환한다는 점에서 기능적으로 동일하지만,\n",
    "size()는 함수 형태로 호출이 되고, 사용자의 선호에 따라 선택할 수 있다\n",
    "'''"
   ],
   "id": "d7283c8c9d3e8916",
   "outputs": [
    {
     "name": "stdout",
     "output_type": "stream",
     "text": [
      "torch.Size([3])\n",
      "torch.Size([2, 3])\n",
      "torch.float32\n"
     ]
    },
    {
     "data": {
      "text/plain": [
       "'\\nshape과 size는 PyTorch에서 텐서의 크기를 나타내는 두 가지 속성이다\\n두 속성 모두 텐서의 차원을 튜플 형태로 반환한다는 점에서 기능적으로 동일하지만,\\nsize()는 함수 형태로 호출이 되고, 사용자의 선호에 따라 선택할 수 있다\\n'"
      ]
     },
     "execution_count": 54,
     "metadata": {},
     "output_type": "execute_result"
    }
   ],
   "execution_count": 54
  },
  {
   "metadata": {
    "ExecuteTime": {
     "end_time": "2024-07-24T14:05:20.820464Z",
     "start_time": "2024-07-24T14:05:20.804347Z"
    }
   },
   "cell_type": "code",
   "source": [
    "# 기본 연산\n",
    "a = torch.tensor([1, 2, 3])\n",
    "b = torch.tensor([4, 5, 6])\n",
    "c = a + b\n",
    "d = a * b\n",
    "print(\"덧셈 결과:\", c)\n",
    "print(\"곱셈 결과:\", d)"
   ],
   "id": "571bb56f75037c4b",
   "outputs": [
    {
     "name": "stdout",
     "output_type": "stream",
     "text": [
      "덧셈 결과: tensor([5, 7, 9])\n",
      "곱셈 결과: tensor([ 4, 10, 18])\n"
     ]
    }
   ],
   "execution_count": 55
  },
  {
   "metadata": {
    "ExecuteTime": {
     "end_time": "2024-07-24T14:05:20.849435Z",
     "start_time": "2024-07-24T14:05:20.835522Z"
    }
   },
   "cell_type": "code",
   "source": [
    "# 행렬 연산\n",
    "A = torch.tensor([[1, 2], [3, 4]])\n",
    "B = torch.tensor([[5, 6], [7, 8]])\n",
    "C = torch.matmul(A, B)\n",
    "print(\"행렬 곱셈 결과:\\n\", C)"
   ],
   "id": "8f553889a302b204",
   "outputs": [
    {
     "name": "stdout",
     "output_type": "stream",
     "text": [
      "행렬 곱셈 결과:\n",
      " tensor([[19, 22],\n",
      "        [43, 50]])\n"
     ]
    }
   ],
   "execution_count": 56
  },
  {
   "metadata": {
    "ExecuteTime": {
     "end_time": "2024-07-24T14:05:20.950285Z",
     "start_time": "2024-07-24T14:05:20.928269Z"
    }
   },
   "cell_type": "code",
   "source": [
    "# 크기가 3x3인 램덤 텐서 생성하기\n",
    "x = torch.rand(3, 3)\n",
    "y = torch.rand(3, 3)\n",
    "\n",
    "# 텐서의 합계\n",
    "z = torch.sum(x)\n",
    "print(\"합계:\\n\", z)\n",
    "'''\n",
    "3x3 텐서 x의 모든 요소를 더한 결과를 출력한다\n",
    "'''\n",
    "\n",
    "# 텐서의 최대값과 인덱스\n",
    "z, idx = torch.max(x ,dim=0)\n",
    "print(\"최댓값:\\n\", z)\n",
    "print(\"최댓값 인덱스:\\n\", idx)\n",
    "'''\n",
    "dim = 0은 각 열에서 최댓값을 찾고\n",
    "dim = 1은 각 행에서 최댓값을 찾는다\n",
    "'''"
   ],
   "id": "1c8e597a3b3a284e",
   "outputs": [
    {
     "name": "stdout",
     "output_type": "stream",
     "text": [
      "합계:\n",
      " tensor(5.9090)\n",
      "최댓값:\n",
      " tensor([0.9988, 0.9979, 0.7042])\n",
      "최댓값 인덱스:\n",
      " tensor([1, 2, 0])\n"
     ]
    },
    {
     "data": {
      "text/plain": [
       "'\\ndim = 0은 각 열에서 최댓값을 찾고\\ndim = 1은 각 행에서 최댓값을 찾는다\\n'"
      ]
     },
     "execution_count": 57,
     "metadata": {},
     "output_type": "execute_result"
    }
   ],
   "execution_count": 57
  },
  {
   "metadata": {
    "ExecuteTime": {
     "end_time": "2024-07-24T14:05:20.987916Z",
     "start_time": "2024-07-24T14:05:20.968947Z"
    }
   },
   "cell_type": "code",
   "source": [
    "# 연산의 브로드캐스팅\n",
    "x = torch.tensor([1, 2, 3])\n",
    "y = torch.tensor([[1], [2], [3]])\n",
    "z = x + y\n",
    "\n",
    "print(z)\n",
    "print(x.shape)\n",
    "print(y.shape)\n",
    "print(z.shape)\n",
    "\n",
    "'''\n",
    "브로드캐스팅 연산이란,\n",
    "배열의 크기가 다를 때도 연산을 수행할 수 있도록 도와주는 기능\n",
    "'''"
   ],
   "id": "1739930a16f9c633",
   "outputs": [
    {
     "name": "stdout",
     "output_type": "stream",
     "text": [
      "tensor([[2, 3, 4],\n",
      "        [3, 4, 5],\n",
      "        [4, 5, 6]])\n",
      "torch.Size([3])\n",
      "torch.Size([3, 1])\n",
      "torch.Size([3, 3])\n"
     ]
    },
    {
     "data": {
      "text/plain": [
       "'\\n브로드캐스팅 연산이란,\\n배열의 크기가 다를 때도 연산을 수행할 수 있도록 도와주는 기능\\n'"
      ]
     },
     "execution_count": 58,
     "metadata": {},
     "output_type": "execute_result"
    }
   ],
   "execution_count": 58
  },
  {
   "metadata": {
    "ExecuteTime": {
     "end_time": "2024-07-24T14:05:21.053516Z",
     "start_time": "2024-07-24T14:05:21.040409Z"
    }
   },
   "cell_type": "code",
   "source": [
    "# 자동 미분(Autograd), autograd는 역전파를 통해 자동으로 기울기 계산\n",
    "x = torch.tensor([1.0, 2.0, 3.0], requires_grad=True)\n",
    "'''\n",
    "requires_grad=True\n",
    "=> 역전파를 통해 기울기를 계산할 때, requires_grad=True로 설정된 텐서는 그 기울기를 grad 속성에 저장\n",
    "\n",
    "**자동 미분 활성화**\n",
    "'''\n",
    "\n",
    "y = x + 2\n",
    "z = y * y * 3\n",
    "out = z.mean()\n",
    "\n",
    "out.backward()  # 역전파 수행\n",
    "print(x.grad)   # x에 대한 기울기 출력\n",
    "'''\n",
    "역전파 수행 과정이 수학적으로 잘 이해 안감...\n",
    "그냥 위의 주석만큼만 이해하면 될까?\n",
    "'''"
   ],
   "id": "8925ebe63d9d9ee",
   "outputs": [
    {
     "name": "stdout",
     "output_type": "stream",
     "text": [
      "tensor([ 6.,  8., 10.])\n"
     ]
    },
    {
     "data": {
      "text/plain": [
       "'\\n역전파 수행 과정이 수학적으로 잘 이해 안감...\\n그냥 위의 주석만큼만 이해하면 될까?\\n'"
      ]
     },
     "execution_count": 59,
     "metadata": {},
     "output_type": "execute_result"
    }
   ],
   "execution_count": 59
  },
  {
   "metadata": {
    "ExecuteTime": {
     "end_time": "2024-07-24T14:05:21.087503Z",
     "start_time": "2024-07-24T14:05:21.069431Z"
    }
   },
   "cell_type": "code",
   "source": [
    "# requires_grad=True로 설정하여 텐서의 기울기를 계산하도록 지정\n",
    "x = torch.tensor(2.0, requires_grad=True)\n",
    "y = torch.tensor(3.0, requires_grad=True)\n",
    "\n",
    "z = x * y + y**2\n",
    "z.backward()\n",
    "\n",
    "# 기울기 출력\n",
    "print(x.grad)\n",
    "print(y.grad)\n",
    "'''\n",
    "<위에서 이해 못한 수학적 의미>\n",
    "x.grad는 dz/dx를 나타내며, 이는 z를 x에 대해 미분한 값\n",
    "y.grad는 dz/dy를 나타내며, 이는 z를 y에 대해 미분한 값\n",
    "\n",
    "z를 x에 대해 미분하면 y가 된다\n",
    "따라서, dz/dx = y = 3.0\n",
    "\n",
    "z를 y에 대해 미분하면 x + 2*y가 된다\n",
    "따라서, dz/dy = x + 2*y = 2.0 + 2*3.0 = 8.0\n",
    "'''"
   ],
   "id": "7dc4ee4c2e51b560",
   "outputs": [
    {
     "name": "stdout",
     "output_type": "stream",
     "text": [
      "tensor(3.)\n",
      "tensor(8.)\n"
     ]
    },
    {
     "data": {
      "text/plain": [
       "'\\n<위에서 이해 못한 수학적 의미>\\nx.grad는 dz/dx를 나타내며, 이는 z를 x에 대해 미분한 값\\ny.grad는 dz/dy를 나타내며, 이는 z를 y에 대해 미분한 값\\n\\nz를 x에 대해 미분하면 y가 된다\\n따라서, dz/dx = y = 3.0\\n\\nz를 y에 대해 미분하면 x + 2*y가 된다\\n따라서, dz/dy = x + 2*y = 2.0 + 2*3.0 = 8.0\\n'"
      ]
     },
     "execution_count": 60,
     "metadata": {},
     "output_type": "execute_result"
    }
   ],
   "execution_count": 60
  },
  {
   "metadata": {
    "ExecuteTime": {
     "end_time": "2024-07-24T14:05:21.167865Z",
     "start_time": "2024-07-24T14:05:21.150271Z"
    }
   },
   "cell_type": "code",
   "source": [
    "# 신경망 모듈\n",
    "import torch.nn as nn    # (nn : neural network)\n",
    "import torch.nn.functional as F\n",
    "\n",
    "# nn.Module은 신경망의 기본 모듈 \n",
    "class SimpleNN(nn.Module):    # nn.Module을 상속받은 SimpleNN 클래스\n",
    "    # 신경망의 계층을 정의하는 부분\n",
    "    def __init__(self):\n",
    "        super(SimpleNN, self).__init__()    # 부모 클래스의 초기화 코드 실행 : SimpleNN 클래스에서 필요한 초기와 작업 수행\n",
    "        # fc : fully connected layer\n",
    "        self.fc1 = nn.Linear(784,128)   # Linear 선형 변환, 784개의 입력을 받아 128개의 출력을 내보냄\n",
    "        self.fc2 = nn.Linear(128, 10)  # 보통 분류 문제에서의 출력 계층 개수는 분류 클래스 개수를 의미함\n",
    "    \n",
    "    # 순전파 정의 : 입력 데이터가 신경망을 통과하는 방식을 지정\n",
    "    def forward(self, x):\n",
    "        x = x.view(-1, 784)\n",
    "        x = F.relu(self.fc1(x))\n",
    "        x = self.fc2(x)\n",
    "        return x\n",
    "    \n",
    "model = SimpleNN()\n",
    "print(model)"
   ],
   "id": "ce94f9e409689047",
   "outputs": [
    {
     "name": "stdout",
     "output_type": "stream",
     "text": [
      "SimpleNN(\n",
      "  (fc1): Linear(in_features=784, out_features=128, bias=True)\n",
      "  (fc2): Linear(in_features=128, out_features=10, bias=True)\n",
      ")\n"
     ]
    }
   ],
   "execution_count": 61
  },
  {
   "metadata": {
    "ExecuteTime": {
     "end_time": "2024-07-24T14:05:21.242811Z",
     "start_time": "2024-07-24T14:05:21.221433Z"
    }
   },
   "cell_type": "code",
   "source": [
    "class CNN(nn.Module):\n",
    "    def __init__(self):\n",
    "        super(CNN, self).__init__()\n",
    "        \n",
    "        # 첫 번째 합성곱 층\n",
    "        # 신경망 계층을 정의하는 객체들 -> 순전파 단계에서 함수처럼 호출되어 입력 데이터를 처리\n",
    "        self.conv1 = nn.Conv2d(in_channels=1, out_channels=32, kernel_size=3, stride=1, padding=1)\n",
    "        self.bn1 = nn.BatchNorm2d(32)   # 배치 정규화\n",
    "        self.pool = nn.MaxPool2d(kernel_size=2, stride=2, padding=0)\n",
    "        self.dropout1 = nn.Dropout(p=0.25)   # 드롭아웃\n",
    "        '''\n",
    "        in_channels : 입력 채널의 수 -> 흑백 이미지이므로 1, 컬러 이미지는 3\n",
    "        out_channels : 출력 채널의 수\n",
    "        \n",
    "        3x3 크기의 필터가 32개 사용된다\n",
    "        28x28 크기의 이미지를 입력으로 받아 32개의 28x28 크기의 출력(특성 맵)을 내보낸다\n",
    "        '''\n",
    "        \n",
    "        # 두 번째 합성곱 층\n",
    "        self.conv2 = nn.Conv2d(in_channels=32, out_channels=64, kernel_size=3, stride=1, padding=1)\n",
    "        self.bn2 = nn.BatchNorm2d(64)\n",
    "        self.dropout2 = nn.Dropout(p=0.25)\n",
    "        \n",
    "        # 완전 연결 층\n",
    "        self.fc1 = nn.Linear(64 * 7 * 7, 128)\n",
    "        self.bn3 = nn.BatchNorm1d(128)  # 배치 정규화\n",
    "        self.dropout3 = nn.Dropout(p=0.5)  # 드롭아웃\n",
    "        self.fc2 = nn.Linear(128, 10)\n",
    "        \n",
    "    def forward(self, x):\n",
    "        x = self.pool(F.relu(self.bn1(self.conv1(x))))\n",
    "        x = self.dropout1(x)\n",
    "        x = self.pool(F.relu(self.bn2(self.conv2(x))))\n",
    "        x = self.dropout2(x)\n",
    "        x = x.view(-1, 64 * 7 * 7)  # 평탄화\n",
    "        x = F.relu(self.bn3(self.fc1(x)))\n",
    "        x = self.dropout3(x)\n",
    "        x = self.fc2(x)\n",
    "        return F.log_softmax(x, dim=1)\n",
    "    \n",
    "model_cnn = CNN()\n",
    "print(model_cnn)        "
   ],
   "id": "59d63aa69bbb1633",
   "outputs": [
    {
     "name": "stdout",
     "output_type": "stream",
     "text": [
      "CNN(\n",
      "  (conv1): Conv2d(1, 32, kernel_size=(3, 3), stride=(1, 1), padding=(1, 1))\n",
      "  (bn1): BatchNorm2d(32, eps=1e-05, momentum=0.1, affine=True, track_running_stats=True)\n",
      "  (pool): MaxPool2d(kernel_size=2, stride=2, padding=0, dilation=1, ceil_mode=False)\n",
      "  (dropout1): Dropout(p=0.25, inplace=False)\n",
      "  (conv2): Conv2d(32, 64, kernel_size=(3, 3), stride=(1, 1), padding=(1, 1))\n",
      "  (bn2): BatchNorm2d(64, eps=1e-05, momentum=0.1, affine=True, track_running_stats=True)\n",
      "  (dropout2): Dropout(p=0.25, inplace=False)\n",
      "  (fc1): Linear(in_features=3136, out_features=128, bias=True)\n",
      "  (bn3): BatchNorm1d(128, eps=1e-05, momentum=0.1, affine=True, track_running_stats=True)\n",
      "  (dropout3): Dropout(p=0.5, inplace=False)\n",
      "  (fc2): Linear(in_features=128, out_features=10, bias=True)\n",
      ")\n"
     ]
    }
   ],
   "execution_count": 62
  },
  {
   "metadata": {
    "ExecuteTime": {
     "end_time": "2024-07-24T14:05:21.300381Z",
     "start_time": "2024-07-24T14:05:21.285118Z"
    }
   },
   "cell_type": "code",
   "source": [
    "# 데이터 로딩\n",
    "from torch.utils.data import Dataset, DataLoader\n",
    "\n",
    "class CustomDataset(Dataset):\n",
    "    def __init__(self, data, labels):\n",
    "        self.data = data\n",
    "        self.labels = labels\n",
    "        \n",
    "    def __len__(self):\n",
    "        return len(self.data)\n",
    "    \n",
    "    def __getitem__(self, idx):\n",
    "        return self.data[idx], self.labels[idx]\n",
    "    \n",
    "# 예시 데이터 정의\n",
    "data = torch.randn(100, 1, 28, 28)  # 100개의 1x28x28 크기의 이미지 데이터\n",
    "labels = torch.randint(0, 10, (100,))  # 0에서 9 사이의 정수 레이블 100개\n",
    "\n",
    "# CustomDataset 인스턴스 생성\n",
    "dataset = CustomDataset(data, labels)\n",
    "dataloader = DataLoader(dataset, batch_size=32, shuffle=True)"
   ],
   "id": "69a106a542a0aa2d",
   "outputs": [],
   "execution_count": 63
  },
  {
   "metadata": {
    "ExecuteTime": {
     "end_time": "2024-07-24T14:05:21.321748Z",
     "start_time": "2024-07-24T14:05:21.313606Z"
    }
   },
   "cell_type": "code",
   "source": [
    "# 손실 함수 및 옵티마이저 설정\n",
    "criterion = nn.CrossEntropyLoss()\n",
    "optimizer = torch.optim.Adam(model.parameters(), lr=0.001)"
   ],
   "id": "6cddc592e838a355",
   "outputs": [],
   "execution_count": 64
  },
  {
   "metadata": {
    "ExecuteTime": {
     "end_time": "2024-07-24T14:05:21.613583Z",
     "start_time": "2024-07-24T14:05:21.362837Z"
    }
   },
   "cell_type": "code",
   "source": [
    "# 학습 루프\n",
    "num_epochs = 10\n",
    "for epoch in range(num_epochs):\n",
    "    for inputs, labels in dataloader:\n",
    "        optimizer.zero_grad()\n",
    "        outputs = model(inputs)\n",
    "        loss = criterion(outputs, labels)\n",
    "        loss.backward()\n",
    "        optimizer.step()"
   ],
   "id": "2c9f46756db2f0c8",
   "outputs": [],
   "execution_count": 65
  },
  {
   "metadata": {
    "ExecuteTime": {
     "end_time": "2024-07-24T14:05:39.306820Z",
     "start_time": "2024-07-24T14:05:39.293715Z"
    }
   },
   "cell_type": "code",
   "source": [
    "# 평가 모드 전환\n",
    "model.eval()\n",
    "with torch.no_grad():\n",
    "    for inputs, labels in dataloader:\n",
    "        outputs = model(inputs)"
   ],
   "id": "1decfc00177f4275",
   "outputs": [],
   "execution_count": 66
  },
  {
   "metadata": {
    "ExecuteTime": {
     "end_time": "2024-07-24T14:05:45.627811Z",
     "start_time": "2024-07-24T14:05:45.618552Z"
    }
   },
   "cell_type": "code",
   "source": [
    "# GPU 사용 (Using GPU), 객체를 GPU로 이동\n",
    "device = torch.device('cuda' if torch.cuda.is_available() else 'cpu')\n",
    "model.to(device)\n",
    "inputs, labels = inputs.to(device), labels.to(device)"
   ],
   "id": "60bd4d12e1cc6142",
   "outputs": [],
   "execution_count": 67
  }
 ],
 "metadata": {
  "kernelspec": {
   "display_name": "Python 3",
   "language": "python",
   "name": "python3"
  },
  "language_info": {
   "codemirror_mode": {
    "name": "ipython",
    "version": 2
   },
   "file_extension": ".py",
   "mimetype": "text/x-python",
   "name": "python",
   "nbconvert_exporter": "python",
   "pygments_lexer": "ipython2",
   "version": "2.7.6"
  }
 },
 "nbformat": 4,
 "nbformat_minor": 5
}
