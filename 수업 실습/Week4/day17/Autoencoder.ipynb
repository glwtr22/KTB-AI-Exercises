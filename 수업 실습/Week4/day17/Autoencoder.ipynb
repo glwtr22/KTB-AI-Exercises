{
 "cells": [
  {
   "cell_type": "code",
   "id": "initial_id",
   "metadata": {
    "collapsed": true,
    "ExecuteTime": {
     "end_time": "2024-07-25T04:52:49.846314Z",
     "start_time": "2024-07-25T04:52:49.836169Z"
    }
   },
   "source": [
    "import torch\n",
    "import torch.nn as nn\n",
    "import torch.optim as optim\n",
    "from torchvision import datasets, transforms\n",
    "import matplotlib.pyplot as plt"
   ],
   "outputs": [],
   "execution_count": 7
  },
  {
   "metadata": {
    "ExecuteTime": {
     "end_time": "2024-07-25T04:52:49.971118Z",
     "start_time": "2024-07-25T04:52:49.856161Z"
    }
   },
   "cell_type": "code",
   "source": [
    "# 데이터셋 로드 및 전처리\n",
    "transform = transforms.Compose([\n",
    "    transforms.ToTensor(),   # 이미지를 텐서로 변환\n",
    "    transforms.Normalize((0.5,), (0.5,))  # 텐서 값 정규화\n",
    "])\n",
    "\n",
    "# 데이터셋을 불러올 때, transform 인자를 통해 정의된 변환 작업이 각 이미지에 적용\n",
    "train_dataset = datasets.MNIST(root='./data', train=True, download=True, transform=transform)\n",
    "train_loader = torch.utils.data.DataLoader(train_dataset, batch_size=64, shuffle=True)\n",
    "\n",
    "test_dataset = datasets.MNIST(root='./data', train=False, download=True, transform=transform)\n",
    "test_loader = torch.utils.data.DataLoader(test_dataset, batch_size=64, shuffle=False)"
   ],
   "id": "c3e9a79e9a5bef7d",
   "outputs": [],
   "execution_count": 8
  },
  {
   "metadata": {
    "ExecuteTime": {
     "end_time": "2024-07-25T04:52:49.984441Z",
     "start_time": "2024-07-25T04:52:49.975984Z"
    }
   },
   "cell_type": "code",
   "source": "device = torch.device('cuda' if torch.cuda.is_available() else 'cpu')",
   "id": "1db17acbc1f8e54",
   "outputs": [],
   "execution_count": 9
  },
  {
   "metadata": {
    "ExecuteTime": {
     "end_time": "2024-07-25T04:52:50.012975Z",
     "start_time": "2024-07-25T04:52:49.994211Z"
    }
   },
   "cell_type": "code",
   "source": [
    "class Autoencoder(nn.Module):\n",
    "    def __init__(self):\n",
    "        super(Autoencoder, self).__init__()\n",
    "        # 인코더 정의\n",
    "        self.encoder = nn.Sequential(\n",
    "            nn.Linear(28*28, 128),\n",
    "            nn.ReLU(),\n",
    "            nn.Linear(128, 64),\n",
    "            nn.ReLU(),\n",
    "            nn.Linear(64, 32)\n",
    "        )\n",
    "        # 디코더 정의\n",
    "        self.decoder = nn.Sequential(\n",
    "            nn.Linear(32, 64),\n",
    "            nn.ReLU(),\n",
    "            nn.Linear(64, 128),\n",
    "            nn.ReLU(),\n",
    "            nn.Linear(128, 28*28),\n",
    "            nn.Tanh()\n",
    "        )\n",
    "        \n",
    "    def forward(self, x):\n",
    "        x = self.encoder(noise(x))\n",
    "        x = self.decoder(x)\n",
    "        return x\n",
    "    \n",
    "def noise(x, noise_factor=0.5):\n",
    "    noise = torch.randn_like(x) * noise_factor\n",
    "    return x + noise\n",
    "\n",
    "model = Autoencoder().to(device)\n",
    "\n",
    "# 모델의 학습을 위한 손실함수와 최적화 알고리즘 설정\n",
    "criterion = nn.MSELoss()\n",
    "optimizer = optim.Adam(model.parameters(), lr=1e-3)"
   ],
   "id": "b80a2d74a32f24e0",
   "outputs": [],
   "execution_count": 10
  },
  {
   "metadata": {
    "ExecuteTime": {
     "end_time": "2024-07-25T04:52:50.022735Z",
     "start_time": "2024-07-25T04:52:50.015716Z"
    }
   },
   "cell_type": "code",
   "source": "print(model)",
   "id": "d8af254239cca221",
   "outputs": [
    {
     "name": "stdout",
     "output_type": "stream",
     "text": [
      "Autoencoder(\n",
      "  (encoder): Sequential(\n",
      "    (0): Linear(in_features=784, out_features=128, bias=True)\n",
      "    (1): ReLU()\n",
      "    (2): Linear(in_features=128, out_features=64, bias=True)\n",
      "    (3): ReLU()\n",
      "    (4): Linear(in_features=64, out_features=32, bias=True)\n",
      "  )\n",
      "  (decoder): Sequential(\n",
      "    (0): Linear(in_features=32, out_features=64, bias=True)\n",
      "    (1): ReLU()\n",
      "    (2): Linear(in_features=64, out_features=128, bias=True)\n",
      "    (3): ReLU()\n",
      "    (4): Linear(in_features=128, out_features=784, bias=True)\n",
      "    (5): Tanh()\n",
      "  )\n",
      ")\n"
     ]
    }
   ],
   "execution_count": 11
  },
  {
   "metadata": {
    "ExecuteTime": {
     "end_time": "2024-07-25T04:56:32.911602Z",
     "start_time": "2024-07-25T04:52:50.037922Z"
    }
   },
   "cell_type": "code",
   "source": [
    "num_epochs = 10\n",
    "\n",
    "for epoch in range(num_epochs):\n",
    "    for data, _ in train_loader:\n",
    "        data = data.view(-1, 28 * 28).to(device)\n",
    "        \n",
    "        # 순전파\n",
    "        output = model(data)\n",
    "        loss = criterion(output, data)\n",
    "        \n",
    "        # 역전파\n",
    "        optimizer.zero_grad()\n",
    "        loss.backward()\n",
    "        optimizer.step()\n",
    "        \n",
    "    print(f'Epoch [{epoch+1}/{num_epochs}], Loss: {loss.item():.4f}')"
   ],
   "id": "9a0b80759c0db97a",
   "outputs": [
    {
     "name": "stdout",
     "output_type": "stream",
     "text": [
      "Epoch [1/10], Loss: 0.1148\n",
      "Epoch [2/10], Loss: 0.0764\n",
      "Epoch [3/10], Loss: 0.0637\n",
      "Epoch [4/10], Loss: 0.0596\n",
      "Epoch [5/10], Loss: 0.0598\n",
      "Epoch [6/10], Loss: 0.0589\n",
      "Epoch [7/10], Loss: 0.0643\n",
      "Epoch [8/10], Loss: 0.0533\n",
      "Epoch [9/10], Loss: 0.0526\n",
      "Epoch [10/10], Loss: 0.0464\n"
     ]
    }
   ],
   "execution_count": 12
  },
  {
   "metadata": {
    "ExecuteTime": {
     "end_time": "2024-07-25T04:56:33.774289Z",
     "start_time": "2024-07-25T04:56:32.913425Z"
    }
   },
   "cell_type": "code",
   "source": [
    "# 테스트 데이터로 복원 이미지 생성 및 시각화\n",
    "model.eval()\n",
    "with torch.no_grad():\n",
    "    for data, _ in test_loader:\n",
    "        data = data.view(-1, 28 * 28).to(device)\n",
    "        output = model(data)\n",
    "        output = output.view(-1, 1, 28, 28).cpu()\n",
    "        break\n",
    "        \n",
    "fig, axes = plt.subplots(nrows=2, ncols=10, sharex=True, sharey=True, figsize=(20,4))\n",
    "\n",
    "for images, row in zip([data.view(-1, 1, 28, 28).cpu(), output], axes):\n",
    "    for img, ax in zip(images, row):\n",
    "        ax.imshow(img.numpy().squeeze(), cmap='gray')\n",
    "        ax.get_xaxis().set_visible(False)\n",
    "        ax.get_yaxis().set_visible(False)\n",
    "        \n",
    "plt.show()"
   ],
   "id": "7b3c982ac4d53686",
   "outputs": [
    {
     "data": {
      "text/plain": [
       "<Figure size 2000x400 with 20 Axes>"
      ],
      "image/png": "[encoded data removed]"
     },
     "metadata": {},
     "output_type": "display_data"
    }
   ],
   "execution_count": 13
  },
  {
   "metadata": {
    "ExecuteTime": {
     "end_time": "2024-07-25T04:56:33.780747Z",
     "start_time": "2024-07-25T04:56:33.776746Z"
    }
   },
   "cell_type": "code",
   "source": "",
   "id": "629779a68ce5d81d",
   "outputs": [],
   "execution_count": 13
  }
 ],
 "metadata": {
  "kernelspec": {
   "display_name": "Python 3",
   "language": "python",
   "name": "python3"
  },
  "language_info": {
   "codemirror_mode": {
    "name": "ipython",
    "version": 2
   },
   "file_extension": ".py",
   "mimetype": "text/x-python",
   "name": "python",
   "nbconvert_exporter": "python",
   "pygments_lexer": "ipython2",
   "version": "2.7.6"
  }
 },
 "nbformat": 4,
 "nbformat_minor": 5
}
