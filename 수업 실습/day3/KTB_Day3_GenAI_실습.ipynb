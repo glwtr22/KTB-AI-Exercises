{
 "nbformat": 4,
 "nbformat_minor": 0,
 "metadata": {
  "colab": {
   "provenance": []
  },
  "kernelspec": {
   "name": "python3",
   "display_name": "Python 3 (ipykernel)",
   "language": "python"
  },
  "language_info": {
   "name": "python"
  }
 },
 "cells": [
  {
   "cell_type": "markdown",
   "source": [
    "# 파이썬 프로그래밍 종합 실습\n",
    "기본 문법 복습, 자료형, 함수, 클래스와 객체지향 프로그래밍, 제너레이터와 이터레이터, 파일 입출력, 예외 처리를 종합적으로 활용합니다."
   ],
   "metadata": {
    "id": "zr5LnyrKxjNd"
   }
  },
  {
   "metadata": {},
   "cell_type": "markdown",
   "source": ""
  },
  {
   "cell_type": "markdown",
   "source": [
    "1. 파이썬 기본 문법 복습 및 자료형\n",
    "\n",
    "문제:\n",
    "\n",
    "사용자로부터 이름, 나이, 이메일을 입력받아 딕셔너리에 저장하는 프로그램을 작성하세요.\n",
    "\n",
    "나이와 이메일의 형식을 검증하고, 잘못된 입력이 있으면 예외 처리를 하세요."
   ],
   "metadata": {
    "id": "MwJQm7MJxvAk"
   }
  },
  {
   "cell_type": "code",
   "metadata": {
    "id": "yKTAculHxfMp",
    "ExecuteTime": {
     "end_time": "2024-07-04T04:49:32.182225Z",
     "start_time": "2024-07-04T04:49:13.161013Z"
    }
   },
   "source": [
    "def validate_age(age):\n",
    "    try:\n",
    "        age = int(age)\n",
    "        if age <= 0:\n",
    "            raise ValueError(\"Age must be a positive integer.\")\n",
    "        return age\n",
    "    except ValueError:\n",
    "        raise ValueError(\"Invalid age format. Please enter a valid age.\")\n",
    "\n",
    "def validate_email(email):\n",
    "    if \"@\" not in email or \".\" not in email:\n",
    "        raise ValueError(\"Invalid email format. Please enter a vaild email.\")\n",
    "    return email\n",
    "\n",
    "try:\n",
    "    user_info = {}\n",
    "    \n",
    "    name = input(\"Enter your name: \")\n",
    "    age = input(\"Enter your age: \")\n",
    "    validated_age = validate_age(age)\n",
    "    email = input(\"Enter your email: \")\n",
    "    validated_email = validate_email(email)\n",
    "    \n",
    "    user_info['name'] = name\n",
    "    user_info['age'] = validated_age\n",
    "    user_info['email'] = validated_email\n",
    "    \n",
    "    print(\"User information successfully saved:\")\n",
    "    print(user_info)\n",
    "    \n",
    "except ValueError as ve:\n",
    "    print(f\"Error: {ve}\")"
   ],
   "outputs": [
    {
     "name": "stdout",
     "output_type": "stream",
     "text": [
      "User information successfully saved:\n",
      "{'name': '김조현', 'age': 25, 'email': 'johyun25@na.ver.co@m'}\n"
     ]
    }
   ],
   "execution_count": 3
  },
  {
   "cell_type": "markdown",
   "source": [
    "2. 함수 및 클래스와 객체지향 프로그래밍\n",
    "\n",
    "문제:\n",
    "\n",
    "간단한 계산기 클래스를 작성하세요. 이 클래스는 덧셈, 뺄셈, 곱셈, 나눗셈 메서드를 포함합니다.\n",
    "\n",
    "사용자로부터 두 숫자와 연산자를 입력받아 계산 결과를 출력하는 프로그램을 작성하세요."
   ],
   "metadata": {
    "id": "in-rBALsyK33"
   }
  },
  {
   "cell_type": "code",
   "source": [
    "class Calculator:\n",
    "    def __init__(self, x):\n",
    "        self.x = x\n",
    "        \n",
    "    def __add__(self, other):\n",
    "        return Calculator(self.x + other.x)\n",
    "    def __sub__(self, other):\n",
    "        return Calculator(self.x - other.x)\n",
    "    def __mul__(self, other):\n",
    "        return Calculator(self.x * other.x)\n",
    "    def __truediv__(self, other):\n",
    "        return Calculator(self.x / other.x)\n",
    "    \n",
    "    def __str__(self):\n",
    "        return str(self.x)\n",
    "    \n",
    "try:\n",
    "    a, oper, b = input(\"Enter two numbers and an operator (e.g., 2 + 3) : \").split()\n",
    "    a = Calculator(int(a))\n",
    "    b = Calculator(int(b))\n",
    "    if oper == '+':\n",
    "        result = a + b\n",
    "    elif oper == '-':\n",
    "        result = a - b\n",
    "    elif oper == '*':\n",
    "        result = a * b\n",
    "    elif oper == '/':\n",
    "        result = a / b\n",
    "    else:\n",
    "        result = \"Error: Invalid operator\"\n",
    "        \n",
    "    print(\"Result:\", result)\n",
    "        \n",
    "        \n",
    "except ValueError:\n",
    "    print(\"Error: Invalid input\")\n",
    "except Exception as e:\n",
    "    print(\"Error:\", str(e))"
   ],
   "metadata": {
    "id": "v-Yn0ydQyQMO",
    "ExecuteTime": {
     "end_time": "2024-07-04T13:16:03.363634Z",
     "start_time": "2024-07-04T13:16:00.306612Z"
    }
   },
   "outputs": [
    {
     "name": "stdout",
     "output_type": "stream",
     "text": [
      "Result: 1.8\n"
     ]
    }
   ],
   "execution_count": 10
  },
  {
   "metadata": {},
   "cell_type": "code",
   "outputs": [],
   "execution_count": null,
   "source": ""
  },
  {
   "cell_type": "markdown",
   "source": [
    "3. 제너레이터와 이터레이터\n",
    "\n",
    "문제:\n",
    "\n",
    "피보나치 수열을 생성하는 제너레이터 함수를 작성하세요.\n",
    "피보나치 수열의 첫 10개 값을 출력하세요."
   ],
   "metadata": {
    "id": "OlDjuxSlyZOi"
   }
  },
  {
   "cell_type": "code",
   "source": [
    "def fibonacci(n):\n",
    "    count = 1\n",
    "    a, b = 0, 1\n",
    "    while count <= n:\n",
    "        yield a\n",
    "        a, b = b, a+b\n",
    "        count += 1\n",
    "\n",
    "counter = fibonacci(10)\n",
    "\n",
    "for c in counter:\n",
    "    print(c, end=' ')"
   ],
   "metadata": {
    "id": "BkI1jD4GydEa",
    "ExecuteTime": {
     "end_time": "2024-07-04T13:20:27.932190Z",
     "start_time": "2024-07-04T13:20:27.922841Z"
    }
   },
   "outputs": [
    {
     "name": "stdout",
     "output_type": "stream",
     "text": [
      "0 1 1 2 3 5 8 13 21 34 "
     ]
    }
   ],
   "execution_count": 15
  },
  {
   "metadata": {},
   "cell_type": "code",
   "outputs": [],
   "execution_count": null,
   "source": ""
  },
  {
   "cell_type": "markdown",
   "source": [
    "4. 파일 입출력\n",
    "\n",
    "문제:\n",
    "\n",
    "사용자로부터 입력받은 데이터를 파일에 저장하고, 파일 내용을 읽어 출력하는 프로그램을 작성하세요.\n",
    "\n",
    "데이터는 JSON 형식으로 저장하세요"
   ],
   "metadata": {
    "id": "O-_Q0pRUycx0"
   }
  },
  {
   "cell_type": "code",
   "source": [
    "import json\n",
    "\n",
    "data = {}\n",
    "data['name'] = input(\"이름 : \")\n",
    "data['age'] = input(\"나이 : \")\n",
    "data['city'] = input(\"도시 : \")\n",
    "\n",
    "with open('data.json', 'w') as file:\n",
    "    json.dump(data, file)\n",
    "\n",
    "with open('data.json', 'r') as file:\n",
    "    loaded_data = json.load(file)\n",
    "    print(json.dump(loaded_data, indent=4))"
   ],
   "metadata": {
    "id": "nyLTxXTHyqKE",
    "ExecuteTime": {
     "end_time": "2024-07-04T13:26:39.097460Z",
     "start_time": "2024-07-04T13:26:35.383110Z"
    }
   },
   "outputs": [
    {
     "ename": "TypeError",
     "evalue": "dump() missing 1 required positional argument: 'fp'",
     "output_type": "error",
     "traceback": [
      "\u001B[1;31m---------------------------------------------------------------------------\u001B[0m",
      "\u001B[1;31mTypeError\u001B[0m                                 Traceback (most recent call last)",
      "Cell \u001B[1;32mIn[18], line 13\u001B[0m\n\u001B[0;32m     11\u001B[0m \u001B[38;5;28;01mwith\u001B[39;00m \u001B[38;5;28mopen\u001B[39m(\u001B[38;5;124m'\u001B[39m\u001B[38;5;124mdata.json\u001B[39m\u001B[38;5;124m'\u001B[39m, \u001B[38;5;124m'\u001B[39m\u001B[38;5;124mr\u001B[39m\u001B[38;5;124m'\u001B[39m) \u001B[38;5;28;01mas\u001B[39;00m file:\n\u001B[0;32m     12\u001B[0m     loaded_data \u001B[38;5;241m=\u001B[39m json\u001B[38;5;241m.\u001B[39mload(file)\n\u001B[1;32m---> 13\u001B[0m     \u001B[38;5;28mprint\u001B[39m(\u001B[43mjson\u001B[49m\u001B[38;5;241;43m.\u001B[39;49m\u001B[43mdump\u001B[49m\u001B[43m(\u001B[49m\u001B[43mloaded_data\u001B[49m\u001B[43m,\u001B[49m\u001B[43m \u001B[49m\u001B[43mindent\u001B[49m\u001B[38;5;241;43m=\u001B[39;49m\u001B[38;5;241;43m4\u001B[39;49m\u001B[43m)\u001B[49m)\n",
      "\u001B[1;31mTypeError\u001B[0m: dump() missing 1 required positional argument: 'fp'"
     ]
    }
   ],
   "execution_count": 18
  },
  {
   "cell_type": "markdown",
   "source": [
    "5. Database 연동\n",
    "\n",
    "문제:\n",
    "\n",
    "SQLite 데이터베이스에 사용자 정보를 저장하고, 저장된 데이터를 조회하여 출력하는 프로그램을 작성하세요.\n",
    "\n",
    "테이블은 users로 하고, id, name, age, email 컬럼을 포함합니다."
   ],
   "metadata": {
    "id": "snEMYElhy3Q3"
   }
  },
  {
   "cell_type": "code",
   "source": [
    "import sqlite3\n",
    "\n",
    "connection = sqlite3.connect('users.db')\n",
    "cursor = connection.cursor()\n",
    "\n",
    "# users 테이블 생성\n",
    "cursor.execute('''\n",
    "CREATE TABLE IF NOT EXISTS users (\n",
    "    id INTEGER PRIMARY KEY AUTOINCREMENT,\n",
    "    name TEXT NOT NULL,\n",
    "    age INTEGER NOT NULL,\n",
    "    email TEXT NOT NULL UNIQUE\n",
    ")\n",
    "''')\n",
    "\n",
    "connection.commit()\n",
    "\n",
    "# 사용자 정보 저장 함수\n",
    "def insert_user(name, age, email):\n",
    "    cursor.execute('''\n",
    "    INSERT INTO users (name, age, email)\n",
    "    VALUES (?, ?, ?)\n",
    "    ''', (name, age, email))\n",
    "    connection.commit()\n",
    "    \n",
    "# 사용자 정보 조회 함수\n",
    "def fetch_users():\n",
    "    cursor.execute('SELECT * FROM users')\n",
    "    rows = cursor.fetchall()\n",
    "    for row in rows:\n",
    "        print(row)\n",
    "        \n",
    "# 사용자 입력, 데이터베이스 작업\n",
    "name = input(\"이름: \")\n",
    "age = int(input(\"나이: \"))\n",
    "email = input(\"이메일: \")\n",
    "\n",
    "insert_user(name, age, email)\n",
    "\n",
    "print(\"저장된 사용자 : \")\n",
    "fetch_users()\n",
    "\n",
    "# 연결 종료\n",
    "connection.close()"
   ],
   "metadata": {
    "id": "d8BgUC0ky6_b",
    "ExecuteTime": {
     "end_time": "2024-07-04T13:38:13.043538Z",
     "start_time": "2024-07-04T13:37:57.177852Z"
    }
   },
   "outputs": [
    {
     "name": "stdout",
     "output_type": "stream",
     "text": [
      "저장된 사용자 : \n",
      "(1, '김조현', 32, 'kimjohyun298@naver.con')\n"
     ]
    }
   ],
   "execution_count": 24
  },
  {
   "cell_type": "markdown",
   "source": [
    "6. 예외 처리\n",
    "\n",
    "문제:\n",
    "\n",
    "사용자로부터 숫자를 입력받아, 그 숫자를 10으로 나누는 프로그램을 작성하세요.\n",
    "\n",
    "0으로 나누는 경우와 숫자가 아닌 값을 입력받는 경우를 처리하세요."
   ],
   "metadata": {
    "id": "qFd9nMWdzMaw"
   }
  },
  {
   "metadata": {},
   "cell_type": "code",
   "outputs": [],
   "execution_count": null,
   "source": ""
  },
  {
   "cell_type": "code",
   "source": [
    "try:\n",
    "    num = int(input())\n",
    "    result = num / 10\n",
    "    print(result)\n",
    "except ValueError as e:\n",
    "    print(e)\n",
    "# except:\n",
    "#     pass"
   ],
   "metadata": {
    "id": "B_0S33jOzPDJ",
    "ExecuteTime": {
     "end_time": "2024-07-04T13:28:23.479573Z",
     "start_time": "2024-07-04T13:28:11.640543Z"
    }
   },
   "outputs": [
    {
     "name": "stdout",
     "output_type": "stream",
     "text": [
      "invalid literal for int() with base 10: ''\n"
     ]
    }
   ],
   "execution_count": 20
  }
 ]
}
